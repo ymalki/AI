{
 "cells": [
  {
   "cell_type": "code",
   "execution_count": 1,
   "metadata": {},
   "outputs": [],
   "source": [
    "from __future__ import division\n",
    "import matplotlib.pyplot as plt\n",
    "import pandas as pds\n",
    "import seaborn as sns\n",
    "#import numpy as np\n",
    "#import random\n",
    "from sklearn import tree\n",
    "#from sklearn import metrics\n",
    "from sklearn.model_selection import cross_validate\n",
    "from sklearn.model_selection import KFold\n",
    "from sklearn.model_selection import StratifiedKFold\n",
    "#from scipy import stats\n",
    "#import graphviz\n",
    "#from sklearn.model_selection import train_test_split\n",
    "%matplotlib inline"
   ]
  },
  {
   "cell_type": "code",
   "execution_count": 2,
   "metadata": {},
   "outputs": [
    {
     "data": {
      "text/html": [
       "<div>\n",
       "<style scoped>\n",
       "    .dataframe tbody tr th:only-of-type {\n",
       "        vertical-align: middle;\n",
       "    }\n",
       "\n",
       "    .dataframe tbody tr th {\n",
       "        vertical-align: top;\n",
       "    }\n",
       "\n",
       "    .dataframe thead th {\n",
       "        text-align: right;\n",
       "    }\n",
       "</style>\n",
       "<table border=\"1\" class=\"dataframe\">\n",
       "  <thead>\n",
       "    <tr style=\"text-align: right;\">\n",
       "      <th></th>\n",
       "      <th>sepal_length</th>\n",
       "      <th>sepal_width</th>\n",
       "      <th>petal_length</th>\n",
       "      <th>petal_width</th>\n",
       "      <th>species</th>\n",
       "    </tr>\n",
       "  </thead>\n",
       "  <tbody>\n",
       "    <tr>\n",
       "      <th>0</th>\n",
       "      <td>5.1</td>\n",
       "      <td>3.5</td>\n",
       "      <td>1.4</td>\n",
       "      <td>0.2</td>\n",
       "      <td>setosa</td>\n",
       "    </tr>\n",
       "    <tr>\n",
       "      <th>1</th>\n",
       "      <td>4.9</td>\n",
       "      <td>3.0</td>\n",
       "      <td>1.4</td>\n",
       "      <td>0.2</td>\n",
       "      <td>setosa</td>\n",
       "    </tr>\n",
       "    <tr>\n",
       "      <th>2</th>\n",
       "      <td>4.7</td>\n",
       "      <td>3.2</td>\n",
       "      <td>1.3</td>\n",
       "      <td>0.2</td>\n",
       "      <td>setosa</td>\n",
       "    </tr>\n",
       "    <tr>\n",
       "      <th>3</th>\n",
       "      <td>4.6</td>\n",
       "      <td>3.1</td>\n",
       "      <td>1.5</td>\n",
       "      <td>0.2</td>\n",
       "      <td>setosa</td>\n",
       "    </tr>\n",
       "    <tr>\n",
       "      <th>4</th>\n",
       "      <td>5.0</td>\n",
       "      <td>3.6</td>\n",
       "      <td>1.4</td>\n",
       "      <td>0.2</td>\n",
       "      <td>setosa</td>\n",
       "    </tr>\n",
       "  </tbody>\n",
       "</table>\n",
       "</div>"
      ],
      "text/plain": [
       "   sepal_length  sepal_width  petal_length  petal_width species\n",
       "0           5.1          3.5           1.4          0.2  setosa\n",
       "1           4.9          3.0           1.4          0.2  setosa\n",
       "2           4.7          3.2           1.3          0.2  setosa\n",
       "3           4.6          3.1           1.5          0.2  setosa\n",
       "4           5.0          3.6           1.4          0.2  setosa"
      ]
     },
     "execution_count": 2,
     "metadata": {},
     "output_type": "execute_result"
    }
   ],
   "source": [
    "#df = sns.load_dataset('iris') # load a pandas dataframe from demo file\n",
    "df = pds.read_csv('./iris_dataset.csv', sep=\";\") # load a pandas dataframe from csv\n",
    "df.head()"
   ]
  },
  {
   "cell_type": "code",
   "execution_count": 3,
   "metadata": {},
   "outputs": [
    {
     "data": {
      "text/html": [
       "<div>\n",
       "<style scoped>\n",
       "    .dataframe tbody tr th:only-of-type {\n",
       "        vertical-align: middle;\n",
       "    }\n",
       "\n",
       "    .dataframe tbody tr th {\n",
       "        vertical-align: top;\n",
       "    }\n",
       "\n",
       "    .dataframe thead th {\n",
       "        text-align: right;\n",
       "    }\n",
       "</style>\n",
       "<table border=\"1\" class=\"dataframe\">\n",
       "  <thead>\n",
       "    <tr style=\"text-align: right;\">\n",
       "      <th></th>\n",
       "      <th>sepal_length</th>\n",
       "      <th>sepal_width</th>\n",
       "      <th>petal_length</th>\n",
       "      <th>petal_width</th>\n",
       "      <th>species</th>\n",
       "    </tr>\n",
       "  </thead>\n",
       "  <tbody>\n",
       "    <tr>\n",
       "      <th>0</th>\n",
       "      <td>6.3</td>\n",
       "      <td>2.3</td>\n",
       "      <td>4.4</td>\n",
       "      <td>1.3</td>\n",
       "      <td>versicolor</td>\n",
       "    </tr>\n",
       "    <tr>\n",
       "      <th>1</th>\n",
       "      <td>6.4</td>\n",
       "      <td>2.7</td>\n",
       "      <td>5.3</td>\n",
       "      <td>1.9</td>\n",
       "      <td>virginica</td>\n",
       "    </tr>\n",
       "    <tr>\n",
       "      <th>2</th>\n",
       "      <td>5.4</td>\n",
       "      <td>3.7</td>\n",
       "      <td>1.5</td>\n",
       "      <td>0.2</td>\n",
       "      <td>setosa</td>\n",
       "    </tr>\n",
       "    <tr>\n",
       "      <th>3</th>\n",
       "      <td>6.1</td>\n",
       "      <td>3.0</td>\n",
       "      <td>4.6</td>\n",
       "      <td>1.4</td>\n",
       "      <td>versicolor</td>\n",
       "    </tr>\n",
       "    <tr>\n",
       "      <th>4</th>\n",
       "      <td>5.0</td>\n",
       "      <td>3.3</td>\n",
       "      <td>1.4</td>\n",
       "      <td>0.2</td>\n",
       "      <td>setosa</td>\n",
       "    </tr>\n",
       "  </tbody>\n",
       "</table>\n",
       "</div>"
      ],
      "text/plain": [
       "   sepal_length  sepal_width  petal_length  petal_width     species\n",
       "0           6.3          2.3           4.4          1.3  versicolor\n",
       "1           6.4          2.7           5.3          1.9   virginica\n",
       "2           5.4          3.7           1.5          0.2      setosa\n",
       "3           6.1          3.0           4.6          1.4  versicolor\n",
       "4           5.0          3.3           1.4          0.2      setosa"
      ]
     },
     "execution_count": 3,
     "metadata": {},
     "output_type": "execute_result"
    }
   ],
   "source": [
    "df = df.sample(frac=1, random_state=10).reset_index(drop=True)\n",
    "df.head()"
   ]
  },
  {
   "cell_type": "code",
   "execution_count": 4,
   "metadata": {},
   "outputs": [],
   "source": [
    "dff = df.drop(['species'],axis=1) # get only the features in the dataframe"
   ]
  },
  {
   "cell_type": "code",
   "execution_count": 5,
   "metadata": {},
   "outputs": [],
   "source": [
    "classes = df.loc[:,\"species\"]"
   ]
  },
  {
   "cell_type": "code",
   "execution_count": 6,
   "metadata": {},
   "outputs": [],
   "source": [
    "#model = tree.DecisionTreeClassifier(criterion = 'gini')\n",
    "model = tree.DecisionTreeClassifier(criterion = 'entropy', random_state=10, min_samples_leaf=3)\n",
    "#model = tree.DecisionTreeClassifier(criterion = 'entropy', random_state=10, max_depth=10, min_samples_leaf=3)"
   ]
  },
  {
   "cell_type": "code",
   "execution_count": 7,
   "metadata": {},
   "outputs": [
    {
     "data": {
      "text/plain": [
       "dict_keys(['fit_time', 'score_time', 'test_accuracy', 'test_precision_macro', 'test_precision_weighted', 'test_recall_macro', 'test_recall_weighted', 'test_f1_macro', 'test_f1_weighted'])"
      ]
     },
     "execution_count": 7,
     "metadata": {},
     "output_type": "execute_result"
    }
   ],
   "source": [
    "scoring = ['accuracy', 'precision_macro', 'precision_weighted', 'recall_macro', 'recall_weighted', 'f1_macro', 'f1_weighted']\n",
    "#cv = KFold(n_splits=5, random_state=10, shuffle=True)\n",
    "cv = StratifiedKFold(n_splits=5, random_state=10, shuffle=True)\n",
    "scores = cross_validate(model, dff, classes, scoring=scoring,\n",
    "                        cv=cv, return_train_score=False)\n",
    "#scores = cross_validate(model, dff, classes, scoring=scoring,\n",
    "#                        cv=5, return_train_score=False)\n",
    "#cv = 5 folds made by StratifiedKFold (default) for sklearn classifiers (all classifiers of class ClassifierMixin)\n",
    "scores.keys()"
   ]
  },
  {
   "cell_type": "code",
   "execution_count": 8,
   "metadata": {},
   "outputs": [
    {
     "name": "stdout",
     "output_type": "stream",
     "text": [
      "Global accuracy over all folds: 0.966667 (+/- 0.042164)\n",
      "For each metric, list the score values on each fold:\n",
      "['0.002710', '0.001626', '0.002056', '0.001794', '0.001556'] fit_time\n",
      "['0.005530', '0.005428', '0.006284', '0.005077', '0.004925'] score_time\n",
      "['0.966667', '0.933333', '0.966667', '1.000000', '0.966667'] test_accuracy\n",
      "['0.966583', '0.932660', '0.966583', '1.000000', '0.966583'] test_f1_macro\n",
      "['0.966583', '0.932660', '0.966583', '1.000000', '0.966583'] test_f1_weighted\n",
      "['0.969697', '0.944444', '0.969697', '1.000000', '0.969697'] test_precision_macro\n",
      "['0.969697', '0.944444', '0.969697', '1.000000', '0.969697'] test_precision_weighted\n",
      "['0.966667', '0.933333', '0.966667', '1.000000', '0.966667'] test_recall_macro\n",
      "['0.966667', '0.933333', '0.966667', '1.000000', '0.966667'] test_recall_weighted\n"
     ]
    }
   ],
   "source": [
    "print('Global accuracy over all folds: %0.6f (+/- %0.6f)'\n",
    "      % (scores['test_accuracy'].mean(), scores['test_accuracy'].std() * 2))\n",
    "print('For each metric, list the score values on each fold:')\n",
    "for metric in sorted(scores.keys()):\n",
    "    print(str(['{:.6f}'.format(value) for value in scores[metric]]) + ' ' +metric)\n",
    "    "
   ]
  },
  {
   "cell_type": "raw",
   "metadata": {},
   "source": [
    "Calling cross_validate with StratifiedKFold\n",
    "Global accuracy over all folds: 0.966667 (+/- 0.059628)\n",
    "For each metric, list the score values on each fold:\n",
    "['0.002255', '0.001138', '0.001249', '0.001258', '0.001096'] fit_time\n",
    "['0.008168', '0.004934', '0.004997', '0.004945', '0.004714'] score_time\n",
    "['0.933333', '0.933333', '0.966667', '1.000000', '1.000000'] test_accuracy\n",
    "['0.933333', '0.933333', '0.966583', '1.000000', '1.000000'] test_f1_macro\n",
    "['0.933333', '0.933333', '0.966583', '1.000000', '1.000000'] test_f1_weighted\n",
    "['0.933333', '0.933333', '0.969697', '1.000000', '1.000000'] test_precision_macro\n",
    "['0.933333', '0.933333', '0.969697', '1.000000', '1.000000'] test_precision_weighted\n",
    "['0.933333', '0.933333', '0.966667', '1.000000', '1.000000'] test_recall_macro\n",
    "['0.933333', '0.933333', '0.966667', '1.000000', '1.000000'] test_recall_weighted"
   ]
  },
  {
   "cell_type": "raw",
   "metadata": {},
   "source": [
    "Calling cross_validate with KFold\n",
    "Global accuracy over all folds: 0.966667 (+/- 0.059628)\n",
    "For each metric, list the score values on each fold:\n",
    "['0.002093', '0.001122', '0.001266', '0.001051', '0.000983'] fit_time\n",
    "['0.004578', '0.003855', '0.003590', '0.003484', '0.003557'] score_time\n",
    "['1.000000', '0.933333', '1.000000', '0.966667', '0.933333'] test_accuracy\n",
    "['1.000000', '0.939394', '1.000000', '0.964912', '0.935185'] test_f1_macro\n",
    "['1.000000', '0.933333', '1.000000', '0.966667', '0.933333'] test_f1_weighted\n",
    "['1.000000', '0.939394', '1.000000', '0.966667', '0.935185'] test_precision_macro\n",
    "['1.000000', '0.933333', '1.000000', '0.970000', '0.933333'] test_precision_weighted\n",
    "['1.000000', '0.939394', '1.000000', '0.966667', '0.935185'] test_recall_macro\n",
    "['1.000000', '0.933333', '1.000000', '0.966667', '0.933333'] test_recall_weighted"
   ]
  },
  {
   "cell_type": "raw",
   "metadata": {},
   "source": [
    "Calling cross_validate with cs=5\n",
    "Global accuracy over all folds: 0.953333 (+/- 0.090431)\n",
    "For each metric, list the score values on each fold:\n",
    "['0.002807', '0.001261', '0.001278', '0.001096', '0.001198'] fit_time\n",
    "['0.004747', '0.004728', '0.003614', '0.003815', '0.003838'] score_time\n",
    "['1.000000', '0.866667', '0.966667', '0.966667', '0.966667'] test_accuracy\n",
    "['1.000000', '0.865320', '0.966583', '0.966583', '0.966583'] test_f1_macro\n",
    "['1.000000', '0.865320', '0.966583', '0.966583', '0.966583'] test_f1_weighted\n",
    "['1.000000', '0.875000', '0.969697', '0.969697', '0.969697'] test_precision_macro\n",
    "['1.000000', '0.875000', '0.969697', '0.969697', '0.969697'] test_precision_weighted\n",
    "['1.000000', '0.866667', '0.966667', '0.966667', '0.966667'] test_recall_macro\n",
    "['1.000000', '0.866667', '0.966667', '0.966667', '0.966667'] test_recall_weighted"
   ]
  }
 ],
 "metadata": {
  "kernelspec": {
   "display_name": "Python 3 (ipykernel)",
   "language": "python",
   "name": "python3"
  },
  "language_info": {
   "codemirror_mode": {
    "name": "ipython",
    "version": 3
   },
   "file_extension": ".py",
   "mimetype": "text/x-python",
   "name": "python",
   "nbconvert_exporter": "python",
   "pygments_lexer": "ipython3",
   "version": "3.11.5"
  }
 },
 "nbformat": 4,
 "nbformat_minor": 2
}
