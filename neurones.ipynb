{
 "cells": [
  {
   "cell_type": "code",
   "execution_count": 220,
   "id": "13745122-13b9-4349-9791-7b83df79ef49",
   "metadata": {},
   "outputs": [],
   "source": [
    "import numpy as np\n",
    "import pandas as pd\n",
    "import torch\n",
    "import torch.nn as nn\n",
    "import torch.optim as optim\n",
    "import matplotlib.pyplot as plt\n",
    "from sklearn.model_selection import train_test_split\n"
   ]
  },
  {
   "cell_type": "code",
   "execution_count": 222,
   "id": "1907e63b-1469-4013-9dca-2dffd9cb0ce8",
   "metadata": {},
   "outputs": [],
   "source": [
    "# Load and preprocess the dataset\n",
    "df = pd.read_csv('weather_forecast_data.csv', converters={'CGPA': lambda x: str(x).replace(',', '.')})\n",
    "df.head()\n",
    "rain_condition = 1  # Use 1 for \"Rain\", 0 for \"No Rain\"\n",
    "\n",
    "# Specify the percentage of rows to delete where the condition is met (e.g., 50% of rainy days)\n",
    "delete_percentage = 0.5\n",
    "\n",
    "# Randomly select rows where the 'Rain' column equals the condition (e.g., \"Rain\" = 1)\n",
    "rows_to_delete = df[df['Rain'] == rain_condition].sample(frac=delete_percentage, random_state=42)\n"
   ]
  },
  {
   "cell_type": "code",
   "execution_count": 224,
   "id": "1c4655d9-d7c5-453f-acf9-aae984cda5de",
   "metadata": {},
   "outputs": [],
   "source": [
    "classes = df.loc[:,\"Rain\"]\n",
    "df = df.dropna()  # Drop rows with missing data\n"
   ]
  },
  {
   "cell_type": "code",
   "execution_count": 226,
   "id": "64b54cb0-5463-48ca-b2ab-43afeaab6d16",
   "metadata": {},
   "outputs": [
    {
     "name": "stdout",
     "output_type": "stream",
     "text": [
      "   Temperature   Humidity  Wind_Speed  Cloud_Cover     Pressure\n",
      "0    23.720338  89.592641    7.335604    50.501694  1032.378759\n",
      "1    27.879734  46.489704    5.952484     4.990053   992.614190\n",
      "2    25.069084  83.072843    1.371992    14.855784  1007.231620\n",
      "3    23.622080  74.367758    7.050551    67.255282   982.632013\n",
      "4    20.591370  96.858822    4.643921    47.676444   980.825142\n"
     ]
    }
   ],
   "source": [
    "features = df.drop(columns=['Rain'])\n",
    "print(features.head())"
   ]
  },
  {
   "cell_type": "code",
   "execution_count": 228,
   "id": "a08e6d6d-2c44-4759-8798-49f8b1d91aa0",
   "metadata": {},
   "outputs": [
    {
     "name": "stdout",
     "output_type": "stream",
     "text": [
      "0       1\n",
      "1       0\n",
      "2       0\n",
      "3       1\n",
      "4       0\n",
      "       ..\n",
      "2495    0\n",
      "2496    0\n",
      "2497    0\n",
      "2498    0\n",
      "2499    0\n",
      "Name: Rain, Length: 2500, dtype: int64\n"
     ]
    }
   ],
   "source": [
    "labels = df['Rain'].map({\"rain\": 1, \"no rain\": 0})\n",
    "print(labels)"
   ]
  },
  {
   "cell_type": "code",
   "execution_count": 230,
   "id": "7759fac6-bd2d-40b1-9929-64371241516b",
   "metadata": {},
   "outputs": [
    {
     "name": "stdout",
     "output_type": "stream",
     "text": [
      "2055    0\n",
      "1961    0\n",
      "1864    0\n",
      "2326    1\n",
      "461     1\n",
      "       ..\n",
      "1638    0\n",
      "1095    0\n",
      "1130    0\n",
      "1294    0\n",
      "860     0\n",
      "Name: Rain, Length: 2000, dtype: int64\n",
      "torch.Size([2000, 5]) torch.Size([2000, 1])\n",
      "torch.Size([500, 5]) torch.Size([500, 1])\n"
     ]
    }
   ],
   "source": [
    "X_train, X_test, y_train, y_test = train_test_split(features, labels, test_size=0.2, random_state=42)\n",
    "\n",
    "print(y_train)\n",
    "\n",
    "# Convert to PyTorch tensors\n",
    "X_train = torch.tensor(X_train.values, dtype=torch.float32)  # Ensure the features are in a proper format (NumPy array)\n",
    "y_train = torch.tensor(y_train.values, dtype=torch.float32).unsqueeze(1)  # Unsqueeze to match model's output shape\n",
    "\n",
    "X_test = torch.tensor(X_test.values, dtype=torch.float32)  # Ensure the features are in a proper format (NumPy array)\n",
    "y_test = torch.tensor(y_test.values, dtype=torch.float32).unsqueeze(1)  # Unsqueeze to match model's output shape\n",
    "\n",
    "# Now X_train, y_train, X_test, y_test are PyTorch tensors\n",
    "print(X_train.shape, y_train.shape)\n",
    "print(X_test.shape, y_test.shape)\n"
   ]
  },
  {
   "cell_type": "code",
   "execution_count": 232,
   "id": "dcee26b0-72f6-4567-ae04-58f54cafe170",
   "metadata": {},
   "outputs": [],
   "source": [
    "# Define the neural network class\n",
    "class NeuralNetwork(nn.Module):\n",
    "    def __init__(self, input_size, hidden_size, output_size):\n",
    "        super(NeuralNetwork, self).__init__()\n",
    "        self.fc1 = nn.Linear(input_size, hidden_size)\n",
    "        self.relu = nn.ReLU()\n",
    "        self.fc2 = nn.Linear(hidden_size, output_size)\n",
    "        self.sigmoid = nn.Sigmoid()\n",
    "\n",
    "    def forward(self, x):\n",
    "        x = self.fc1(x)\n",
    "        x = self.relu(x)\n",
    "        x = self.fc2(x)\n",
    "        x = self.sigmoid(x)\n",
    "        return x\n"
   ]
  },
  {
   "cell_type": "code",
   "execution_count": 234,
   "id": "602d9242-cb50-4d17-92e6-f57f128b21e8",
   "metadata": {},
   "outputs": [],
   "source": [
    "# Initialize the model, loss function, and optimizer\n",
    "input_size = X_train.shape[1]\n",
    "hidden_size = 8\n",
    "output_size = 1\n"
   ]
  },
  {
   "cell_type": "code",
   "execution_count": 236,
   "id": "bc8d74fb-631a-42d1-950d-7dccfc44ea09",
   "metadata": {},
   "outputs": [],
   "source": [
    "model = NeuralNetwork(input_size, hidden_size, output_size)\n",
    "criterion = nn.BCELoss()  # Binary Cross-Entropy Loss\n",
    "optimizer = optim.Adam(model.parameters(), lr=0.01)\n"
   ]
  },
  {
   "cell_type": "code",
   "execution_count": 238,
   "id": "b463b308-0138-4749-bc75-d2de40607a75",
   "metadata": {},
   "outputs": [
    {
     "name": "stdout",
     "output_type": "stream",
     "text": [
      "Epoch [500/5000], Loss: 0.1595\n",
      "Epoch [1000/5000], Loss: 0.1548\n",
      "Epoch [1500/5000], Loss: 0.1545\n",
      "Epoch [2000/5000], Loss: 0.1536\n",
      "Epoch [2500/5000], Loss: 0.1535\n",
      "Epoch [3000/5000], Loss: 0.1534\n",
      "Epoch [3500/5000], Loss: 0.1536\n",
      "Epoch [4000/5000], Loss: 0.1534\n",
      "Epoch [4500/5000], Loss: 0.1534\n",
      "Epoch [5000/5000], Loss: 0.1535\n"
     ]
    }
   ],
   "source": [
    "# Training the model\n",
    "epochs = 5000\n",
    "for epoch in range(epochs):\n",
    "    # Forward pass\n",
    "    outputs = model(X_train)\n",
    "    loss = criterion(outputs, y_train)\n",
    "\n",
    "    # Backward pass and optimization\n",
    "    optimizer.zero_grad()\n",
    "    loss.backward()\n",
    "    optimizer.step()\n",
    "\n",
    "    if (epoch + 1) % 500 == 0:\n",
    "        print(f\"Epoch [{epoch + 1}/{epochs}], Loss: {loss.item():.4f}\")\n"
   ]
  },
  {
   "cell_type": "code",
   "execution_count": 239,
   "id": "4f5aeaf2-8fa4-4bdf-a79a-6d896844b4c9",
   "metadata": {},
   "outputs": [
    {
     "name": "stdout",
     "output_type": "stream",
     "text": [
      "92.40000247955322\n",
      "92.40000247955322\n",
      "92.59999990463257\n",
      "92.79999732971191\n",
      "93.19999814033508\n",
      "93.19999814033508\n",
      "93.4000015258789\n",
      "93.4000015258789\n",
      "93.19999814033508\n",
      "92.79999732971191\n",
      "92.79999732971191\n",
      "92.79999732971191\n",
      "92.79999732971191\n",
      "92.79999732971191\n",
      "92.59999990463257\n",
      "92.79999732971191\n",
      "92.79999732971191\n",
      "92.79999732971191\n",
      "92.79999732971191\n",
      "92.59999990463257\n",
      "92.59999990463257\n",
      "92.59999990463257\n",
      "92.59999990463257\n",
      "93.19999814033508\n",
      "93.19999814033508\n",
      "93.59999895095825\n",
      "93.4000015258789\n",
      "93.4000015258789\n",
      "93.80000233650208\n",
      "93.80000233650208\n",
      "93.99999976158142\n",
      "93.99999976158142\n",
      "93.4000015258789\n",
      "93.4000015258789\n",
      "93.59999895095825\n",
      "93.59999895095825\n",
      "93.59999895095825\n",
      "93.59999895095825\n",
      "93.59999895095825\n",
      "93.4000015258789\n"
     ]
    },
    {
     "data": {
      "image/png": "[encoded data removed]",
      "text/plain": [
       "<Figure size 640x480 with 1 Axes>"
      ]
     },
     "metadata": {},
     "output_type": "display_data"
    }
   ],
   "source": [
    "# Test the model and calculate accuracy\n",
    "\n",
    "xval = []\n",
    "yval = []\n",
    "\n",
    "for i in range(30,70):\n",
    "    with torch.no_grad():\n",
    "        test_outputs = model(X_test)\n",
    "        predicted = (test_outputs > i/100).float()  # variable threshold\n",
    "        accuracy = (predicted == y_test).float().mean().item()\n",
    "        print(accuracy*100)\n",
    "    xval.append(accuracy*100)\n",
    "    yval.append(i/100)\n",
    "\n",
    "plt.plot(yval, xval)\n",
    "\n",
    "\n",
    "plt.show()"
   ]
  },
  {
   "cell_type": "code",
   "execution_count": 240,
   "id": "b6661879-4b27-415b-a203-009dbb0a61c6",
   "metadata": {},
   "outputs": [
    {
     "name": "stdout",
     "output_type": "stream",
     "text": [
      "Input: [  27.72627    32.703594   18.296473   22.387709 1008.50134 ], Predicted: 0.0, Actual: 0.0\n",
      "Input: [  21.034353   46.943073   15.470662   56.015594 1040.422   ], Predicted: 0.0, Actual: 0.0\n",
      "Input: [2.27805443e+01 7.02714691e+01 3.54477242e-02 5.00730476e+01\n",
      " 1.02248865e+03], Predicted: 0.0, Actual: 1.0\n",
      "Input: [  32.53907    98.91845     6.119418   97.130295 1034.0464  ], Predicted: 0.0, Actual: 0.0\n",
      "Input: [ 32.662354   46.43939     7.5014734  42.406624  980.85846  ], Predicted: 0.0, Actual: 0.0\n",
      "Input: [  27.844172   58.00307    19.735615   13.906703 1041.6917  ], Predicted: 0.0, Actual: 0.0\n",
      "Input: [  34.475273    63.045406     7.5716276   62.42268   1003.56946  ], Predicted: 0.0, Actual: 0.0\n",
      "Input: [ 25.229033   60.895035    1.1519902  56.449318  983.6658   ], Predicted: 0.0, Actual: 0.0\n",
      "Input: [ 20.04284   52.652958  16.98019   80.182816 983.8945  ], Predicted: 0.0, Actual: 0.0\n",
      "Input: [  10.426018   94.71529     6.303279   47.831657 1018.4349  ], Predicted: 1.0, Actual: 0.0\n"
     ]
    }
   ],
   "source": [
    "# Example predictions\n",
    "for i, input_data in enumerate(X_test[:10]):  # Show first 10 test cases\n",
    "    print(f\"Input: {input_data.numpy()}, Predicted: {predicted[i].item()}, Actual: {y_test[i].item()}\")\n"
   ]
  },
  {
   "cell_type": "code",
   "execution_count": null,
   "id": "414b3e02-e9fc-4706-a464-a848b1b618c3",
   "metadata": {},
   "outputs": [],
   "source": []
  },
  {
   "cell_type": "code",
   "execution_count": null,
   "id": "cc02ca73-bcaf-49c2-9039-d5edb65f2119",
   "metadata": {},
   "outputs": [],
   "source": []
  }
 ],
 "metadata": {
  "kernelspec": {
   "display_name": "Python 3 (ipykernel)",
   "language": "python",
   "name": "python3"
  },
  "language_info": {
   "codemirror_mode": {
    "name": "ipython",
    "version": 3
   },
   "file_extension": ".py",
   "mimetype": "text/x-python",
   "name": "python",
   "nbconvert_exporter": "python",
   "pygments_lexer": "ipython3",
   "version": "3.12.4"
  }
 },
 "nbformat": 4,
 "nbformat_minor": 5
}
