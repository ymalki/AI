{
 "cells": [
  {
   "cell_type": "code",
   "execution_count": 56,
   "metadata": {},
   "outputs": [],
   "source": [
    "from __future__ import division\n",
    "import matplotlib.pyplot as plt\n",
    "import pandas as pds\n",
    "import seaborn as sns\n",
    "import numpy as np\n",
    "import random\n",
    "from sklearn import tree\n",
    "from sklearn import ensemble\n",
    "from sklearn import metrics\n",
    "from scipy import stats\n",
    "#import graphviz\n",
    "from sklearn.model_selection import train_test_split\n",
    "%matplotlib inline\n",
    "from sklearn.preprocessing import StandardScaler"
   ]
  },
  {
   "cell_type": "code",
   "execution_count": 57,
   "metadata": {},
   "outputs": [
    {
     "data": {
      "text/html": [
       "<div>\n",
       "<style scoped>\n",
       "    .dataframe tbody tr th:only-of-type {\n",
       "        vertical-align: middle;\n",
       "    }\n",
       "\n",
       "    .dataframe tbody tr th {\n",
       "        vertical-align: top;\n",
       "    }\n",
       "\n",
       "    .dataframe thead th {\n",
       "        text-align: right;\n",
       "    }\n",
       "</style>\n",
       "<table border=\"1\" class=\"dataframe\">\n",
       "  <thead>\n",
       "    <tr style=\"text-align: right;\">\n",
       "      <th></th>\n",
       "      <th>Temperature</th>\n",
       "      <th>Humidity</th>\n",
       "      <th>Wind_Speed</th>\n",
       "      <th>Cloud_Cover</th>\n",
       "      <th>Pressure</th>\n",
       "      <th>Rain</th>\n",
       "    </tr>\n",
       "  </thead>\n",
       "  <tbody>\n",
       "    <tr>\n",
       "      <th>0</th>\n",
       "      <td>23.720338</td>\n",
       "      <td>89.592641</td>\n",
       "      <td>7.335604</td>\n",
       "      <td>50.501694</td>\n",
       "      <td>1032.378759</td>\n",
       "      <td>rain</td>\n",
       "    </tr>\n",
       "    <tr>\n",
       "      <th>1</th>\n",
       "      <td>27.879734</td>\n",
       "      <td>46.489704</td>\n",
       "      <td>5.952484</td>\n",
       "      <td>4.990053</td>\n",
       "      <td>992.614190</td>\n",
       "      <td>no rain</td>\n",
       "    </tr>\n",
       "    <tr>\n",
       "      <th>2</th>\n",
       "      <td>25.069084</td>\n",
       "      <td>83.072843</td>\n",
       "      <td>1.371992</td>\n",
       "      <td>14.855784</td>\n",
       "      <td>1007.231620</td>\n",
       "      <td>no rain</td>\n",
       "    </tr>\n",
       "    <tr>\n",
       "      <th>3</th>\n",
       "      <td>23.622080</td>\n",
       "      <td>74.367758</td>\n",
       "      <td>7.050551</td>\n",
       "      <td>67.255282</td>\n",
       "      <td>982.632013</td>\n",
       "      <td>rain</td>\n",
       "    </tr>\n",
       "    <tr>\n",
       "      <th>4</th>\n",
       "      <td>20.591370</td>\n",
       "      <td>96.858822</td>\n",
       "      <td>4.643921</td>\n",
       "      <td>47.676444</td>\n",
       "      <td>980.825142</td>\n",
       "      <td>no rain</td>\n",
       "    </tr>\n",
       "  </tbody>\n",
       "</table>\n",
       "</div>"
      ],
      "text/plain": [
       "   Temperature   Humidity  Wind_Speed  Cloud_Cover     Pressure     Rain\n",
       "0    23.720338  89.592641    7.335604    50.501694  1032.378759     rain\n",
       "1    27.879734  46.489704    5.952484     4.990053   992.614190  no rain\n",
       "2    25.069084  83.072843    1.371992    14.855784  1007.231620  no rain\n",
       "3    23.622080  74.367758    7.050551    67.255282   982.632013     rain\n",
       "4    20.591370  96.858822    4.643921    47.676444   980.825142  no rain"
      ]
     },
     "execution_count": 57,
     "metadata": {},
     "output_type": "execute_result"
    }
   ],
   "source": [
    "#df = sns.load_dataset('iris') # load a pandas dataframe from demo file\n",
    "df = pds.read_csv('./weather.csv', sep=\",\") # load a pandas dataframe from csv\n",
    "df.head()\n"
   ]
  },
  {
   "cell_type": "code",
   "execution_count": 58,
   "metadata": {},
   "outputs": [
    {
     "data": {
      "text/plain": [
       "0"
      ]
     },
     "execution_count": 58,
     "metadata": {},
     "output_type": "execute_result"
    }
   ],
   "source": [
    "df.duplicated().sum()"
   ]
  },
  {
   "cell_type": "code",
   "execution_count": 60,
   "metadata": {},
   "outputs": [
    {
     "data": {
      "text/html": [
       "<div>\n",
       "<style scoped>\n",
       "    .dataframe tbody tr th:only-of-type {\n",
       "        vertical-align: middle;\n",
       "    }\n",
       "\n",
       "    .dataframe tbody tr th {\n",
       "        vertical-align: top;\n",
       "    }\n",
       "\n",
       "    .dataframe thead th {\n",
       "        text-align: right;\n",
       "    }\n",
       "</style>\n",
       "<table border=\"1\" class=\"dataframe\">\n",
       "  <thead>\n",
       "    <tr style=\"text-align: right;\">\n",
       "      <th></th>\n",
       "      <th>Temperature</th>\n",
       "      <th>Humidity</th>\n",
       "      <th>Wind_Speed</th>\n",
       "      <th>Cloud_Cover</th>\n",
       "      <th>Pressure</th>\n",
       "    </tr>\n",
       "  </thead>\n",
       "  <tbody>\n",
       "    <tr>\n",
       "      <th>Temperature</th>\n",
       "      <td>1.000000</td>\n",
       "      <td>-0.014119</td>\n",
       "      <td>-0.004957</td>\n",
       "      <td>0.006632</td>\n",
       "      <td>-0.007489</td>\n",
       "    </tr>\n",
       "    <tr>\n",
       "      <th>Humidity</th>\n",
       "      <td>-0.014119</td>\n",
       "      <td>1.000000</td>\n",
       "      <td>0.003816</td>\n",
       "      <td>0.007244</td>\n",
       "      <td>-0.032089</td>\n",
       "    </tr>\n",
       "    <tr>\n",
       "      <th>Wind_Speed</th>\n",
       "      <td>-0.004957</td>\n",
       "      <td>0.003816</td>\n",
       "      <td>1.000000</td>\n",
       "      <td>-0.000405</td>\n",
       "      <td>0.018772</td>\n",
       "    </tr>\n",
       "    <tr>\n",
       "      <th>Cloud_Cover</th>\n",
       "      <td>0.006632</td>\n",
       "      <td>0.007244</td>\n",
       "      <td>-0.000405</td>\n",
       "      <td>1.000000</td>\n",
       "      <td>0.023100</td>\n",
       "    </tr>\n",
       "    <tr>\n",
       "      <th>Pressure</th>\n",
       "      <td>-0.007489</td>\n",
       "      <td>-0.032089</td>\n",
       "      <td>0.018772</td>\n",
       "      <td>0.023100</td>\n",
       "      <td>1.000000</td>\n",
       "    </tr>\n",
       "  </tbody>\n",
       "</table>\n",
       "</div>"
      ],
      "text/plain": [
       "             Temperature  Humidity  Wind_Speed  Cloud_Cover  Pressure\n",
       "Temperature     1.000000 -0.014119   -0.004957     0.006632 -0.007489\n",
       "Humidity       -0.014119  1.000000    0.003816     0.007244 -0.032089\n",
       "Wind_Speed     -0.004957  0.003816    1.000000    -0.000405  0.018772\n",
       "Cloud_Cover     0.006632  0.007244   -0.000405     1.000000  0.023100\n",
       "Pressure       -0.007489 -0.032089    0.018772     0.023100  1.000000"
      ]
     },
     "execution_count": 60,
     "metadata": {},
     "output_type": "execute_result"
    }
   ],
   "source": [
    "df.corr(numeric_only=True)"
   ]
  },
  {
   "cell_type": "code",
   "execution_count": 61,
   "metadata": {},
   "outputs": [
    {
     "data": {
      "text/plain": [
       "Temperature    0\n",
       "Humidity       0\n",
       "Wind_Speed     0\n",
       "Cloud_Cover    0\n",
       "Pressure       0\n",
       "Rain           0\n",
       "dtype: int64"
      ]
     },
     "execution_count": 61,
     "metadata": {},
     "output_type": "execute_result"
    }
   ],
   "source": [
    "df.isnull().sum()"
   ]
  },
  {
   "cell_type": "markdown",
   "metadata": {},
   "source": [
    "### Preprocessing: Équilibrage des classes 'rain' et 'no rain'"
   ]
  },
  {
   "cell_type": "code",
   "execution_count": 4,
   "metadata": {},
   "outputs": [
    {
     "name": "stdout",
     "output_type": "stream",
     "text": [
      "2186 314\n"
     ]
    }
   ],
   "source": [
    "# Compter le nombre de lignes où 'Rain' est égal à 'no rain'\n",
    "no_rain_count = len(df[df['Rain'] == 'no rain'])\n",
    "rain_count = len(df[df['Rain'] == 'rain'])\n",
    "# Affichage du nombre de lignes 'no rain'\n",
    "print(no_rain_count, rain_count)"
   ]
  },
  {
   "cell_type": "markdown",
   "metadata": {},
   "source": [
    "#### Undersampling : "
   ]
  },
  {
   "cell_type": "code",
   "execution_count": 62,
   "metadata": {},
   "outputs": [
    {
     "name": "stdout",
     "output_type": "stream",
     "text": [
      "386 314\n"
     ]
    }
   ],
   "source": [
    "# Supposons que votre DataFrame s'appelle df\n",
    "\n",
    "# Sélectionner aléatoirement 1700 lignes où 'Rain' est égal à 'no rain'\n",
    "df_no_rain = df[df['Rain'] == 'no rain'].sample(n=1800, random_state=42)\n",
    "\n",
    "# Supprimer ces 1700 lignes de 'no rain' du DataFrame original\n",
    "df_balanced = df.drop(df_no_rain.index)\n",
    "\n",
    "# Vérification du nouveau nombre de lignes\n",
    "no_rain_count_balanced = len(df_balanced[df_balanced['Rain'] == 'no rain'])\n",
    "rain_count_balanced = len(df_balanced[df_balanced['Rain'] == 'rain'])\n",
    "\n",
    "print(no_rain_count_balanced, rain_count_balanced)\n",
    "\n",
    "df=df_balanced"
   ]
  },
  {
   "cell_type": "code",
   "execution_count": 63,
   "metadata": {},
   "outputs": [],
   "source": [
    "classes = df.loc[:,\"Rain\"]\n",
    "# Réduire la taille de 'classes' pour qu'elle corresponde à 'dff'\n",
    "classes = classes.sample(n=df.shape[0], random_state=10)"
   ]
  },
  {
   "cell_type": "markdown",
   "metadata": {},
   "source": [
    "### Preprocessing:Encodage de la  variable catégorique 'Rain'"
   ]
  },
  {
   "cell_type": "code",
   "execution_count": 64,
   "metadata": {},
   "outputs": [],
   "source": [
    "classes=df['Rain'].map({'rain':1, 'no rain':0})\n",
    "df=df.drop(['Rain'], axis=1)"
   ]
  },
  {
   "cell_type": "code",
   "execution_count": 65,
   "metadata": {},
   "outputs": [
    {
     "name": "stdout",
     "output_type": "stream",
     "text": [
      "(700, 5)\n",
      "(700,)\n"
     ]
    }
   ],
   "source": [
    "print(df.shape)  # Affiche les dimensions de dff\n",
    "print(classes.shape)  # Affiche les dimensions de classes"
   ]
  },
  {
   "cell_type": "code",
   "execution_count": 66,
   "metadata": {},
   "outputs": [
    {
     "name": "stdout",
     "output_type": "stream",
     "text": [
      "[1 0]\n"
     ]
    }
   ],
   "source": [
    "print(classes.unique())"
   ]
  },
  {
   "cell_type": "markdown",
   "metadata": {},
   "source": [
    "___"
   ]
  },
  {
   "cell_type": "code",
   "execution_count": 67,
   "metadata": {},
   "outputs": [],
   "source": [
    "#X_train, X_test, y_train, y_test = train_test_split(dff, classes, train_size=0.66)\n",
    "X_train, X_test, y_train, y_test = train_test_split(df, classes, test_size=0.33, random_state=10)"
   ]
  },
  {
   "cell_type": "code",
   "execution_count": 68,
   "metadata": {},
   "outputs": [
    {
     "name": "stdout",
     "output_type": "stream",
     "text": [
      "Temperature    float64\n",
      "Humidity       float64\n",
      "Wind_Speed     float64\n",
      "Cloud_Cover    float64\n",
      "Pressure       float64\n",
      "dtype: object\n"
     ]
    }
   ],
   "source": [
    "type(X_train)\n",
    "# Vérifier les types des colonnes\n",
    "print(X_train.dtypes)"
   ]
  },
  {
   "cell_type": "code",
   "execution_count": 84,
   "metadata": {},
   "outputs": [],
   "source": [
    "model = ensemble.RandomForestClassifier(n_estimators= 37 , max_depth= 5, criterion = 'entropy', random_state=10,\n",
    "                                        min_samples_leaf=7,bootstrap=True)"
   ]
  },
  {
   "cell_type": "code",
   "execution_count": 85,
   "metadata": {},
   "outputs": [
    {
     "name": "stdout",
     "output_type": "stream",
     "text": [
      "Meilleurs paramètres : {'criterion': 'entropy', 'min_samples_leaf': 9, 'n_estimators': 179}\n"
     ]
    }
   ],
   "source": [
    "from sklearn.model_selection import RandomizedSearchCV\n",
    "from scipy.stats import randint\n",
    "\n",
    "param_dist = {\n",
    "    'n_estimators': randint(10, 200),\n",
    "    'min_samples_leaf': randint(1, 10),\n",
    "    'criterion': ['gini', 'entropy']\n",
    "}\n",
    "random_search = RandomizedSearchCV(RandomForestClassifier(random_state=10),\n",
    "                                   param_distributions=param_dist,\n",
    "                                   n_iter=20,  # Nombre d'essais aléatoires\n",
    "                                   cv=5,\n",
    "                                   scoring='accuracy',\n",
    "                                   n_jobs=-1)\n",
    "random_search.fit(X_train, y_train)\n",
    "print(\"Meilleurs paramètres :\", random_search.best_params_)"
   ]
  },
  {
   "cell_type": "code",
   "execution_count": 86,
   "metadata": {
    "scrolled": true
   },
   "outputs": [
    {
     "name": "stdout",
     "output_type": "stream",
     "text": [
      "[0, 1]\n"
     ]
    },
    {
     "data": {
      "text/plain": [
       "array([[256,   0],\n",
       "       [  0, 213]])"
      ]
     },
     "execution_count": 86,
     "metadata": {},
     "output_type": "execute_result"
    }
   ],
   "source": [
    "model.fit(X_train, y_train)\n",
    "sortedLabelList = sorted(list(set(classes)))\n",
    "print(sortedLabelList)\n",
    "y_predict_train = model.predict(X_train)\n",
    "metrics.confusion_matrix(y_true=y_train, y_pred=y_predict_train, labels=sortedLabelList)\n"
   ]
  },
  {
   "cell_type": "code",
   "execution_count": 78,
   "metadata": {
    "scrolled": true
   },
   "outputs": [
    {
     "name": "stdout",
     "output_type": "stream",
     "text": [
      "[0 0 0 0 0]\n",
      "1.0\n"
     ]
    }
   ],
   "source": [
    "y_predict = model.predict(X_test)\n",
    "print(y_predict[0:5])\n",
    "print(metrics.accuracy_score(y_test, y_predict))"
   ]
  },
  {
   "cell_type": "code",
   "execution_count": 79,
   "metadata": {},
   "outputs": [
    {
     "data": {
      "text/plain": [
       "array([[130,   0],\n",
       "       [  0, 101]])"
      ]
     },
     "execution_count": 79,
     "metadata": {},
     "output_type": "execute_result"
    }
   ],
   "source": [
    "sortedLabelList = sorted(list(set(classes)))\n",
    "metrics.confusion_matrix(y_true=y_test, y_pred=y_predict, labels=sortedLabelList)"
   ]
  },
  {
   "cell_type": "code",
   "execution_count": 80,
   "metadata": {},
   "outputs": [
    {
     "data": {
      "text/plain": [
       "[0, 1]"
      ]
     },
     "execution_count": 80,
     "metadata": {},
     "output_type": "execute_result"
    }
   ],
   "source": [
    "sortedLabelList"
   ]
  },
  {
   "cell_type": "code",
   "execution_count": 81,
   "metadata": {},
   "outputs": [
    {
     "data": {
      "text/html": [
       "<div>\n",
       "<style scoped>\n",
       "    .dataframe tbody tr th:only-of-type {\n",
       "        vertical-align: middle;\n",
       "    }\n",
       "\n",
       "    .dataframe tbody tr th {\n",
       "        vertical-align: top;\n",
       "    }\n",
       "\n",
       "    .dataframe thead th {\n",
       "        text-align: right;\n",
       "    }\n",
       "</style>\n",
       "<table border=\"1\" class=\"dataframe\">\n",
       "  <thead>\n",
       "    <tr style=\"text-align: right;\">\n",
       "      <th></th>\n",
       "      <th>Predicted 0</th>\n",
       "      <th>Predicted 1</th>\n",
       "    </tr>\n",
       "  </thead>\n",
       "  <tbody>\n",
       "    <tr>\n",
       "      <th>True 0</th>\n",
       "      <td>130</td>\n",
       "      <td>0</td>\n",
       "    </tr>\n",
       "    <tr>\n",
       "      <th>True 1</th>\n",
       "      <td>0</td>\n",
       "      <td>101</td>\n",
       "    </tr>\n",
       "  </tbody>\n",
       "</table>\n",
       "</div>"
      ],
      "text/plain": [
       "        Predicted 0  Predicted 1\n",
       "True 0          130            0\n",
       "True 1            0          101"
      ]
     },
     "execution_count": 81,
     "metadata": {},
     "output_type": "execute_result"
    }
   ],
   "source": [
    "pds.DataFrame(\n",
    "    metrics.confusion_matrix(y_true=y_test, y_pred=y_predict, labels=sortedLabelList),\n",
    "    columns=['Predicted ' + str(className) for className in sortedLabelList],\n",
    "    index=['True ' + str(className) for className in sortedLabelList]\n",
    ")"
   ]
  },
  {
   "cell_type": "code",
   "execution_count": 82,
   "metadata": {},
   "outputs": [
    {
     "name": "stdout",
     "output_type": "stream",
     "text": [
      "              precision    recall  f1-score   support\n",
      "\n",
      "           0       1.00      1.00      1.00       130\n",
      "           1       1.00      1.00      1.00       101\n",
      "\n",
      "    accuracy                           1.00       231\n",
      "   macro avg       1.00      1.00      1.00       231\n",
      "weighted avg       1.00      1.00      1.00       231\n",
      "\n"
     ]
    }
   ],
   "source": [
    "print(metrics.classification_report(y_test, y_predict))  "
   ]
  },
  {
   "cell_type": "code",
   "execution_count": 83,
   "metadata": {},
   "outputs": [
    {
     "data": {
      "text/html": [
       "<div>\n",
       "<style scoped>\n",
       "    .dataframe tbody tr th:only-of-type {\n",
       "        vertical-align: middle;\n",
       "    }\n",
       "\n",
       "    .dataframe tbody tr th {\n",
       "        vertical-align: top;\n",
       "    }\n",
       "\n",
       "    .dataframe thead th {\n",
       "        text-align: right;\n",
       "    }\n",
       "</style>\n",
       "<table border=\"1\" class=\"dataframe\">\n",
       "  <thead>\n",
       "    <tr style=\"text-align: right;\">\n",
       "      <th></th>\n",
       "      <th>Predicted 0</th>\n",
       "      <th>Predicted 1</th>\n",
       "    </tr>\n",
       "  </thead>\n",
       "  <tbody>\n",
       "    <tr>\n",
       "      <th>0</th>\n",
       "      <td>0.981618</td>\n",
       "      <td>0.018382</td>\n",
       "    </tr>\n",
       "    <tr>\n",
       "      <th>1</th>\n",
       "      <td>0.977124</td>\n",
       "      <td>0.022876</td>\n",
       "    </tr>\n",
       "    <tr>\n",
       "      <th>2</th>\n",
       "      <td>0.915686</td>\n",
       "      <td>0.084314</td>\n",
       "    </tr>\n",
       "    <tr>\n",
       "      <th>3</th>\n",
       "      <td>1.000000</td>\n",
       "      <td>0.000000</td>\n",
       "    </tr>\n",
       "    <tr>\n",
       "      <th>4</th>\n",
       "      <td>0.959681</td>\n",
       "      <td>0.040319</td>\n",
       "    </tr>\n",
       "    <tr>\n",
       "      <th>5</th>\n",
       "      <td>1.000000</td>\n",
       "      <td>0.000000</td>\n",
       "    </tr>\n",
       "    <tr>\n",
       "      <th>6</th>\n",
       "      <td>0.931373</td>\n",
       "      <td>0.068627</td>\n",
       "    </tr>\n",
       "    <tr>\n",
       "      <th>7</th>\n",
       "      <td>0.021557</td>\n",
       "      <td>0.978443</td>\n",
       "    </tr>\n",
       "    <tr>\n",
       "      <th>8</th>\n",
       "      <td>0.904958</td>\n",
       "      <td>0.095042</td>\n",
       "    </tr>\n",
       "    <tr>\n",
       "      <th>9</th>\n",
       "      <td>0.114321</td>\n",
       "      <td>0.885679</td>\n",
       "    </tr>\n",
       "  </tbody>\n",
       "</table>\n",
       "</div>"
      ],
      "text/plain": [
       "   Predicted 0  Predicted 1\n",
       "0     0.981618     0.018382\n",
       "1     0.977124     0.022876\n",
       "2     0.915686     0.084314\n",
       "3     1.000000     0.000000\n",
       "4     0.959681     0.040319\n",
       "5     1.000000     0.000000\n",
       "6     0.931373     0.068627\n",
       "7     0.021557     0.978443\n",
       "8     0.904958     0.095042\n",
       "9     0.114321     0.885679"
      ]
     },
     "execution_count": 83,
     "metadata": {},
     "output_type": "execute_result"
    }
   ],
   "source": [
    "pds.DataFrame(model.predict_proba(X_test),\n",
    "    columns=['Predicted ' + str(className) for className in sortedLabelList]).head(10)"
   ]
  },
  {
   "cell_type": "code",
   "execution_count": 23,
   "metadata": {},
   "outputs": [
    {
     "data": {
      "image/png": "[encoded data removed]",
      "text/plain": [
       "<Figure size 800x600 with 1 Axes>"
      ]
     },
     "metadata": {},
     "output_type": "display_data"
    }
   ],
   "source": [
    "##Importance des variables (Feature Importance)\n",
    "\n",
    "import matplotlib.pyplot as plt\n",
    "# Importance des variables\n",
    "feature_importances = model.feature_importances_\n",
    "sorted_idx = np.argsort(feature_importances)\n",
    "\n",
    "# Graphique\n",
    "plt.figure(figsize=(8, 6))\n",
    "plt.barh(range(len(sorted_idx)), feature_importances[sorted_idx], align='center', color='skyblue')\n",
    "plt.yticks(range(len(sorted_idx)), df.columns[sorted_idx])\n",
    "plt.xlabel(\"Importance des variables\")\n",
    "plt.title(\"Graphique d'importance des variables (Feature Importance)\")\n",
    "plt.show()"
   ]
  },
  {
   "cell_type": "code",
   "execution_count": 24,
   "metadata": {},
   "outputs": [
    {
     "data": {
      "image/png": "[encoded data removed]",
      "text/plain": [
       "<Figure size 640x480 with 2 Axes>"
      ]
     },
     "metadata": {},
     "output_type": "display_data"
    }
   ],
   "source": [
    "##confusion matrix\n",
    "\n",
    "from sklearn.metrics import ConfusionMatrixDisplay\n",
    "\n",
    "ConfusionMatrixDisplay.from_estimator(model, X_test, y_test, display_labels=sortedLabelList, cmap='Blues')\n",
    "plt.title(\"Matrice de confusion\")\n",
    "plt.show()"
   ]
  },
  {
   "cell_type": "code",
   "execution_count": 34,
   "metadata": {},
   "outputs": [
    {
     "name": "stdout",
     "output_type": "stream",
     "text": [
      "(231, 5)\n",
      "Index(['Temperature', 'Humidity', 'Wind_Speed', 'Cloud_Cover', 'Pressure'], dtype='object')\n"
     ]
    }
   ],
   "source": [
    "print(X_test.shape)\n",
    "print(X_test.columns)"
   ]
  },
  {
   "cell_type": "code",
   "execution_count": 87,
   "metadata": {
    "scrolled": true
   },
   "outputs": [
    {
     "name": "stdout",
     "output_type": "stream",
     "text": [
      "              precision    recall  f1-score   support\n",
      "\n",
      "           0       1.00      1.00      1.00       130\n",
      "           1       1.00      1.00      1.00       101\n",
      "\n",
      "    accuracy                           1.00       231\n",
      "   macro avg       1.00      1.00      1.00       231\n",
      "weighted avg       1.00      1.00      1.00       231\n",
      "\n"
     ]
    }
   ],
   "source": [
    "print(metrics.classification_report(y_test, y_predict))  "
   ]
  },
  {
   "cell_type": "code",
   "execution_count": 88,
   "metadata": {},
   "outputs": [
    {
     "name": "stdout",
     "output_type": "stream",
     "text": [
      "\n",
      "*** Rapport de Classification ***\n",
      "\n",
      "+--------------+-----------+--------+----------+---------+\n",
      "|              | precision | recall | f1-score | support |\n",
      "+--------------+-----------+--------+----------+---------+\n",
      "|      0       |    1.0    |  1.0   |   1.0    |  130.0  |\n",
      "|      1       |    1.0    |  1.0   |   1.0    |  101.0  |\n",
      "|   accuracy   |    1.0    |  1.0   |   1.0    |   1.0   |\n",
      "|  macro avg   |    1.0    |  1.0   |   1.0    |  231.0  |\n",
      "| weighted avg |    1.0    |  1.0   |   1.0    |  231.0  |\n",
      "+--------------+-----------+--------+----------+---------+\n"
     ]
    }
   ],
   "source": [
    "from tabulate import tabulate\n",
    "from sklearn.metrics import classification_report\n",
    "\n",
    "# Générer le rapport\n",
    "report_dict = classification_report(y_test, y_predict, output_dict=True)\n",
    "\n",
    "# Convertir en tableau tabulé\n",
    "table = tabulate(pd.DataFrame(report_dict).transpose(), headers=\"keys\", tablefmt=\"pretty\")\n",
    "\n",
    "# Afficher\n",
    "print(\"\\n*** Rapport de Classification ***\\n\")\n",
    "print(table)"
   ]
  },
  {
   "cell_type": "code",
   "execution_count": 91,
   "metadata": {},
   "outputs": [],
   "source": [
    "from sklearn.model_selection import cross_validate\n",
    "from sklearn.model_selection import KFold\n",
    "from sklearn.model_selection import StratifiedKFold"
   ]
  },
  {
   "cell_type": "code",
   "execution_count": 93,
   "metadata": {},
   "outputs": [
    {
     "data": {
      "text/plain": [
       "dict_keys(['fit_time', 'score_time', 'test_accuracy', 'test_precision_macro', 'test_precision_weighted', 'test_recall_macro', 'test_recall_weighted', 'test_f1_macro', 'test_f1_weighted'])"
      ]
     },
     "execution_count": 93,
     "metadata": {},
     "output_type": "execute_result"
    }
   ],
   "source": [
    "scoring = ['accuracy', 'precision_macro', 'precision_weighted', 'recall_macro', 'recall_weighted', 'f1_macro', 'f1_weighted']\n",
    "#cv = KFold(n_splits=5, random_state=10, shuffle=True)\n",
    "cv = StratifiedKFold(n_splits=5, random_state=10, shuffle=True)\n",
    "scores = cross_validate(model, df, classes, scoring=scoring,\n",
    "                        cv=cv, return_train_score=False)\n",
    "#scores = cross_validate(model, dff, classes, scoring=scoring,\n",
    "#                        cv=5, return_train_score=False)\n",
    "#cv = 5 folds made by StratifiedKFold (default) for sklearn classifiers (all classifiers of class ClassifierMixin)\n",
    "scores.keys()"
   ]
  },
  {
   "cell_type": "code",
   "execution_count": 95,
   "metadata": {},
   "outputs": [
    {
     "name": "stdout",
     "output_type": "stream",
     "text": [
      "Temps d'ajustement (fit time) pour chaque fold : [0.09183288 0.07437205 0.07706285 0.07413507 0.07498693]\n",
      "Temps moyen d'ajustement : 0.07847795486450196\n"
     ]
    }
   ],
   "source": [
    "from sklearn.model_selection import cross_validate\n",
    "from sklearn.ensemble import RandomForestClassifier\n",
    "\n",
    "# Initialisation du modèle\n",
    "model = RandomForestClassifier(random_state=10)\n",
    "\n",
    "# Évaluation avec cross_validate\n",
    "scores = cross_validate(model, X_train, y_train, scoring='accuracy', cv=5, return_train_score=False)\n",
    "\n",
    "# Récupération des temps d'ajustement (fit_time)\n",
    "print(\"Temps d'ajustement (fit time) pour chaque fold :\", scores['fit_time'])\n",
    "print(\"Temps moyen d'ajustement :\", scores['fit_time'].mean())"
   ]
  },
  {
   "cell_type": "code",
   "execution_count": null,
   "metadata": {},
   "outputs": [],
   "source": []
  }
 ],
 "metadata": {
  "kernelspec": {
   "display_name": "Python 3 (ipykernel)",
   "language": "python",
   "name": "python3"
  },
  "language_info": {
   "codemirror_mode": {
    "name": "ipython",
    "version": 3
   },
   "file_extension": ".py",
   "mimetype": "text/x-python",
   "name": "python",
   "nbconvert_exporter": "python",
   "pygments_lexer": "ipython3",
   "version": "3.11.5"
  }
 },
 "nbformat": 4,
 "nbformat_minor": 2
}
